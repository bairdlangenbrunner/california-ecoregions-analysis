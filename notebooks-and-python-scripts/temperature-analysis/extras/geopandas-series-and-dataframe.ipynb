{
 "cells": [
  {
   "cell_type": "code",
   "execution_count": 1,
   "metadata": {},
   "outputs": [],
   "source": [
    "import geopandas\n",
    "import matplotlib.pyplot as mp\n",
    "import cartopy\n",
    "import numpy\n",
    "import xarray\n",
    "import cmocean\n",
    "import rasterio\n",
    "\n",
    "import shapely"
   ]
  },
  {
   "cell_type": "code",
   "execution_count": 2,
   "metadata": {},
   "outputs": [
    {
     "name": "stdout",
     "output_type": "stream",
     "text": [
      "{'init': 'epsg:5070'}\n"
     ]
    }
   ],
   "source": [
    "ca_eco_l3_gdf = geopandas.read_file('../ca_eco_l3/ca_eco_l3.shp')\n",
    "ca_eco_l3_gdf = geopandas.read_file('../ca_eco_l3/ca_eco_l3.shp')\n",
    "print(ca_eco_l3_gdf.crs)"
   ]
  },
  {
   "cell_type": "code",
   "execution_count": 3,
   "metadata": {},
   "outputs": [
    {
     "data": {
      "text/plain": [
       "{'init': 'epsg:5070'}"
      ]
     },
     "execution_count": 3,
     "metadata": {},
     "output_type": "execute_result"
    }
   ],
   "source": [
    "ca_eco_l3_gs = geopandas.GeoSeries.from_file('../ca_eco_l3/ca_eco_l3.shp')\n",
    "ca_eco_l3_gs = geopandas.GeoSeries.from_file('../ca_eco_l3/ca_eco_l3.shp')\n",
    "ca_eco_l3_gs.crs"
   ]
  },
  {
   "cell_type": "code",
   "execution_count": null,
   "metadata": {},
   "outputs": [],
   "source": [
    "lon_lo, lon_hi, lat_lo, lat_hi = 235.25, 246.25, 32., 42.5"
   ]
  },
  {
   "cell_type": "raw",
   "metadata": {},
   "source": [
    "ca_eco_l3_gdf.head()"
   ]
  },
  {
   "cell_type": "code",
   "execution_count": null,
   "metadata": {},
   "outputs": [],
   "source": [
    "type(ca_eco_l3_gs)"
   ]
  },
  {
   "cell_type": "code",
   "execution_count": null,
   "metadata": {},
   "outputs": [],
   "source": [
    "type(ca_eco_l3_gdf)"
   ]
  },
  {
   "cell_type": "code",
   "execution_count": null,
   "metadata": {},
   "outputs": [],
   "source": [
    "ca_eco_l3_gs.crs"
   ]
  },
  {
   "cell_type": "code",
   "execution_count": null,
   "metadata": {},
   "outputs": [],
   "source": [
    "ca_eco_l3_gdf.crs"
   ]
  },
  {
   "cell_type": "code",
   "execution_count": null,
   "metadata": {},
   "outputs": [],
   "source": [
    "print(type(ca_eco_l3_gs[0]))\n",
    "ca_eco_l3_gs[0]"
   ]
  },
  {
   "cell_type": "code",
   "execution_count": null,
   "metadata": {},
   "outputs": [],
   "source": [
    "print(type(ca_eco_l3_gdf.loc[0,:].geometry))\n",
    "ca_eco_l3_gdf.loc[0,:].geometry"
   ]
  },
  {
   "cell_type": "code",
   "execution_count": null,
   "metadata": {},
   "outputs": [],
   "source": [
    "ca_eco_l3_gdf.crs"
   ]
  },
  {
   "cell_type": "code",
   "execution_count": null,
   "metadata": {},
   "outputs": [],
   "source": [
    "fig = mp.figure(figsize=(5,10))\n",
    "\n",
    "map_proj = cartopy.crs.LambertConformal(standard_parallels=[lat_lo,lat_hi], \\\n",
    "    central_longitude=0.5*(lon_lo+lon_hi), \\\n",
    "    central_latitude=0.5*(lat_lo+lat_hi))\n",
    "\n",
    "# data_proj = cartopy.crs.AlbersEqualArea(central_longitude=-96.0, \\\n",
    "#                             central_latitude=23.0, \\\n",
    "#                             false_easting=0.0, \\\n",
    "#                             false_northing=0.0, \\\n",
    "#                             standard_parallels=(29.5, 45.5), \\\n",
    "#                             globe=None)\n",
    "\n",
    "ecoregion_proj = cartopy.crs.epsg(5070)\n",
    "\n",
    "ax = fig.add_subplot(111, projection=map_proj)\n",
    "#ax.coastlines(resolution='50m')\n",
    "ax.set_extent([lon_lo, lon_hi, lat_lo, lat_hi])\n",
    "ax.coastlines(resolution='10m')\n",
    "\n",
    "ax.add_geometries([ca_eco_l3_gs[4]], crs=cartopy.crs.epsg(ca_eco_l3_gs.crs['init'].split(':')[1]))\n",
    "#ax.add_geometries(CA_object.geometry, crs=cartopy.crs.PlateCarree(), facecolor='None', edgecolor='0')\n",
    "\n",
    "#ax.add_geometries([sierras_series.geometry], crs=data_proj, facecolor='orange', alpha=0.5)"
   ]
  },
  {
   "cell_type": "code",
   "execution_count": null,
   "metadata": {},
   "outputs": [],
   "source": [
    "fig = mp.figure(figsize=(5,10))\n",
    "\n",
    "# map_proj = cartopy.crs.LambertConformal(standard_parallels=[lat_lo,lat_hi], \\\n",
    "#     central_longitude=0.5*(lon_lo+lon_hi), \\\n",
    "#     central_latitude=0.5*(lat_lo+lat_hi))\n",
    "\n",
    "# data_proj = cartopy.crs.AlbersEqualArea(central_longitude=-96.0, \\\n",
    "#                             central_latitude=23.0, \\\n",
    "#                             false_easting=0.0, \\\n",
    "#                             false_northing=0.0, \\\n",
    "#                             standard_parallels=(29.5, 45.5), \\\n",
    "#                             globe=None)\n",
    "\n",
    "ecoregion_proj = cartopy.crs.epsg(ca_eco_l3_gdf.crs['init'].split(':')[1])\n",
    "map_proj = ecoregion_proj\n",
    "\n",
    "ax = fig.add_subplot(111, projection=map_proj)\n",
    "#ax.coastlines(resolution='50m')\n",
    "ax.set_extent([lon_lo, lon_hi, lat_lo, lat_hi])\n",
    "ax.coastlines(resolution='10m')\n",
    "\n",
    "ax.add_geometries([ca_eco_l3_gdf.loc[4].geometry], crs=ecoregion_proj)"
   ]
  }
 ],
 "metadata": {
  "kernelspec": {
   "display_name": "Python 3",
   "language": "python",
   "name": "python3"
  },
  "language_info": {
   "codemirror_mode": {
    "name": "ipython",
    "version": 3
   },
   "file_extension": ".py",
   "mimetype": "text/x-python",
   "name": "python",
   "nbconvert_exporter": "python",
   "pygments_lexer": "ipython3",
   "version": "3.6.6"
  }
 },
 "nbformat": 4,
 "nbformat_minor": 2
}
