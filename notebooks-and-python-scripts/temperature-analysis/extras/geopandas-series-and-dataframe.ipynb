{
 "cells": [
  {
   "cell_type": "code",
   "execution_count": 2,
   "metadata": {},
   "outputs": [
    {
     "ename": "ModuleNotFoundError",
     "evalue": "No module named 'cmocean'",
     "output_type": "error",
     "traceback": [
      "\u001b[0;31m---------------------------------------------------------------------------\u001b[0m",
      "\u001b[0;31mModuleNotFoundError\u001b[0m                       Traceback (most recent call last)",
      "\u001b[0;32m<ipython-input-2-fa17b91b1fd2>\u001b[0m in \u001b[0;36m<module>\u001b[0;34m\u001b[0m\n\u001b[1;32m      4\u001b[0m \u001b[0;32mimport\u001b[0m \u001b[0mnumpy\u001b[0m\u001b[0;34m\u001b[0m\u001b[0;34m\u001b[0m\u001b[0m\n\u001b[1;32m      5\u001b[0m \u001b[0;32mimport\u001b[0m \u001b[0mxarray\u001b[0m\u001b[0;34m\u001b[0m\u001b[0;34m\u001b[0m\u001b[0m\n\u001b[0;32m----> 6\u001b[0;31m \u001b[0;32mimport\u001b[0m \u001b[0mcmocean\u001b[0m\u001b[0;34m\u001b[0m\u001b[0;34m\u001b[0m\u001b[0m\n\u001b[0m\u001b[1;32m      7\u001b[0m \u001b[0;32mimport\u001b[0m \u001b[0mrasterio\u001b[0m\u001b[0;34m\u001b[0m\u001b[0;34m\u001b[0m\u001b[0m\n\u001b[1;32m      8\u001b[0m \u001b[0;34m\u001b[0m\u001b[0m\n",
      "\u001b[0;31mModuleNotFoundError\u001b[0m: No module named 'cmocean'"
     ]
    }
   ],
   "source": [
    "import geopandas\n",
    "import matplotlib.pyplot as mp\n",
    "import cartopy\n",
    "import numpy\n",
    "import xarray\n",
    "import cmocean\n",
    "import rasterio\n",
    "\n",
    "import shapely"
   ]
  },
  {
   "cell_type": "code",
   "execution_count": null,
   "metadata": {},
   "outputs": [],
   "source": [
    "ca_eco_l3_gdf = geopandas.read_file('../ca_eco_l3/ca_eco_l3.shp')\n",
    "ca_eco_l3_gdf = geopandas.read_file('../ca_eco_l3/ca_eco_l3.shp')\n",
    "print(ca_eco_l3_gdf.crs)"
   ]
  },
  {
   "cell_type": "code",
   "execution_count": 3,
   "metadata": {},
   "outputs": [
    {
     "data": {
      "text/plain": [
       "{'init': 'epsg:5070'}"
      ]
     },
     "execution_count": 3,
     "metadata": {},
     "output_type": "execute_result"
    }
   ],
   "source": [
    "ca_eco_l3_gs = geopandas.GeoSeries.from_file('../ca_eco_l3/ca_eco_l3.shp')\n",
    "ca_eco_l3_gs = geopandas.GeoSeries.from_file('../ca_eco_l3/ca_eco_l3.shp')\n",
    "ca_eco_l3_gs.crs"
   ]
  },
  {
   "cell_type": "code",
   "execution_count": null,
   "metadata": {},
   "outputs": [],
   "source": [
    "lon_lo, lon_hi, lat_lo, lat_hi = 235.25, 246.25, 32., 42.5"
   ]
  },
  {
   "cell_type": "raw",
   "metadata": {},
   "source": [
    "ca_eco_l3_gdf.head()"
   ]
  },
  {
   "cell_type": "code",
   "execution_count": null,
   "metadata": {},
   "outputs": [],
   "source": [
    "type(ca_eco_l3_gs)"
   ]
  },
  {
   "cell_type": "code",
   "execution_count": null,
   "metadata": {},
   "outputs": [],
   "source": [
    "type(ca_eco_l3_gdf)"
   ]
  },
  {
   "cell_type": "code",
   "execution_count": null,
   "metadata": {},
   "outputs": [],
   "source": [
    "ca_eco_l3_gs.crs"
   ]
  },
  {
   "cell_type": "code",
   "execution_count": null,
   "metadata": {},
   "outputs": [],
   "source": [
    "ca_eco_l3_gdf.crs"
   ]
  },
  {
   "cell_type": "code",
   "execution_count": null,
   "metadata": {},
   "outputs": [],
   "source": [
    "print(type(ca_eco_l3_gs[0]))\n",
    "ca_eco_l3_gs[0]"
   ]
  },
  {
   "cell_type": "code",
   "execution_count": null,
   "metadata": {},
   "outputs": [],
   "source": [
    "print(type(ca_eco_l3_gdf.loc[0,:].geometry))\n",
    "ca_eco_l3_gdf.loc[0,:].geometry"
   ]
  },
  {
   "cell_type": "code",
   "execution_count": null,
   "metadata": {},
   "outputs": [],
   "source": [
    "ca_eco_l3_gdf.crs"
   ]
  },
  {
   "cell_type": "code",
   "execution_count": null,
   "metadata": {},
   "outputs": [],
   "source": [
    "fig = mp.figure(figsize=(5,10))\n",
    "\n",
    "map_proj = cartopy.crs.LambertConformal(standard_parallels=[lat_lo,lat_hi], \\\n",
    "    central_longitude=0.5*(lon_lo+lon_hi), \\\n",
    "    central_latitude=0.5*(lat_lo+lat_hi))\n",
    "\n",
    "# data_proj = cartopy.crs.AlbersEqualArea(central_longitude=-96.0, \\\n",
    "#                             central_latitude=23.0, \\\n",
    "#                             false_easting=0.0, \\\n",
    "#                             false_northing=0.0, \\\n",
    "#                             standard_parallels=(29.5, 45.5), \\\n",
    "#                             globe=None)\n",
    "\n",
    "ecoregion_proj = cartopy.crs.epsg(5070)\n",
    "\n",
    "ax = fig.add_subplot(111, projection=map_proj)\n",
    "#ax.coastlines(resolution='50m')\n",
    "ax.set_extent([lon_lo, lon_hi, lat_lo, lat_hi])\n",
    "ax.coastlines(resolution='10m')\n",
    "\n",
    "ax.add_geometries([ca_eco_l3_gs[4]], crs=cartopy.crs.epsg(ca_eco_l3_gs.crs['init'].split(':')[1]))\n",
    "#ax.add_geometries(CA_object.geometry, crs=cartopy.crs.PlateCarree(), facecolor='None', edgecolor='0')\n",
    "\n",
    "#ax.add_geometries([sierras_series.geometry], crs=data_proj, facecolor='orange', alpha=0.5)"
   ]
  },
  {
   "cell_type": "code",
   "execution_count": null,
   "metadata": {},
   "outputs": [],
   "source": [
    "fig = mp.figure(figsize=(5,10))\n",
    "\n",
    "# map_proj = cartopy.crs.LambertConformal(standard_parallels=[lat_lo,lat_hi], \\\n",
    "#     central_longitude=0.5*(lon_lo+lon_hi), \\\n",
    "#     central_latitude=0.5*(lat_lo+lat_hi))\n",
    "\n",
    "# data_proj = cartopy.crs.AlbersEqualArea(central_longitude=-96.0, \\\n",
    "#                             central_latitude=23.0, \\\n",
    "#                             false_easting=0.0, \\\n",
    "#                             false_northing=0.0, \\\n",
    "#                             standard_parallels=(29.5, 45.5), \\\n",
    "#                             globe=None)\n",
    "\n",
    "ecoregion_proj = cartopy.crs.epsg(ca_eco_l3_gdf.crs['init'].split(':')[1])\n",
    "map_proj = ecoregion_proj\n",
    "\n",
    "ax = fig.add_subplot(111, projection=map_proj)\n",
    "#ax.coastlines(resolution='50m')\n",
    "ax.set_extent([lon_lo, lon_hi, lat_lo, lat_hi])\n",
    "ax.coastlines(resolution='10m')\n",
    "\n",
    "ax.add_geometries([ca_eco_l3_gdf.loc[4].geometry], crs=ecoregion_proj)"
   ]
  },
  {
   "cell_type": "code",
   "execution_count": null,
   "metadata": {},
   "outputs": [],
   "source": []
  },
  {
   "cell_type": "code",
   "execution_count": null,
   "metadata": {},
   "outputs": [],
   "source": []
  },
  {
   "cell_type": "markdown",
   "metadata": {},
   "source": [
    "same"
   ]
  },
  {
   "cell_type": "code",
   "execution_count": 7,
   "metadata": {},
   "outputs": [
    {
     "ename": "NameError",
     "evalue": "name 'ca_eco_gdf' is not defined",
     "output_type": "error",
     "traceback": [
      "\u001b[0;31m---------------------------------------------------------------------------\u001b[0m",
      "\u001b[0;31mNameError\u001b[0m                                 Traceback (most recent call last)",
      "\u001b[0;32m<ipython-input-7-3083330eca46>\u001b[0m in \u001b[0;36m<module>\u001b[0;34m\u001b[0m\n\u001b[0;32m----> 1\u001b[0;31m \u001b[0mca_eco_sierra_nevada\u001b[0m \u001b[0;34m=\u001b[0m \u001b[0mca_eco_gdf\u001b[0m\u001b[0;34m.\u001b[0m\u001b[0miloc\u001b[0m\u001b[0;34m[\u001b[0m\u001b[0;36m4\u001b[0m\u001b[0;34m]\u001b[0m\u001b[0;34m.\u001b[0m\u001b[0mgeometry\u001b[0m\u001b[0;34m\u001b[0m\u001b[0;34m\u001b[0m\u001b[0m\n\u001b[0m\u001b[1;32m      2\u001b[0m \u001b[0mca_eco_sierra_nevada\u001b[0m \u001b[0;34m=\u001b[0m \u001b[0mca_eco_gdf\u001b[0m\u001b[0;34m.\u001b[0m\u001b[0mloc\u001b[0m\u001b[0;34m[\u001b[0m\u001b[0;36m4\u001b[0m\u001b[0;34m]\u001b[0m\u001b[0;34m.\u001b[0m\u001b[0mgeometry\u001b[0m\u001b[0;34m\u001b[0m\u001b[0;34m\u001b[0m\u001b[0m\n\u001b[1;32m      3\u001b[0m \u001b[0mca_eco_sierra_nevada\u001b[0m \u001b[0;34m=\u001b[0m \u001b[0mca_eco_gdf\u001b[0m\u001b[0;34m[\u001b[0m\u001b[0mca_eco_gdf\u001b[0m\u001b[0;34m.\u001b[0m\u001b[0mUS_L3NAME\u001b[0m\u001b[0;34m==\u001b[0m\u001b[0;34m'Sierra Nevada'\u001b[0m\u001b[0;34m]\u001b[0m\u001b[0;34m.\u001b[0m\u001b[0mgeometry\u001b[0m\u001b[0;34m.\u001b[0m\u001b[0mvalues\u001b[0m\u001b[0;34m[\u001b[0m\u001b[0;36m0\u001b[0m\u001b[0;34m]\u001b[0m\u001b[0;34m\u001b[0m\u001b[0;34m\u001b[0m\u001b[0m\n\u001b[1;32m      4\u001b[0m \u001b[0mtype\u001b[0m\u001b[0;34m(\u001b[0m\u001b[0mca_eco_sierra_nevada\u001b[0m\u001b[0;34m)\u001b[0m\u001b[0;34m\u001b[0m\u001b[0;34m\u001b[0m\u001b[0m\n\u001b[1;32m      5\u001b[0m \u001b[0mca_eco_sierra_nevada\u001b[0m\u001b[0;34m\u001b[0m\u001b[0;34m\u001b[0m\u001b[0m\n",
      "\u001b[0;31mNameError\u001b[0m: name 'ca_eco_gdf' is not defined"
     ]
    }
   ],
   "source": [
    "ca_eco_sierra_nevada = ca_eco_gdf.iloc[4].geometry\n",
    "ca_eco_sierra_nevada = ca_eco_gdf.loc[4].geometry\n",
    "ca_eco_sierra_nevada = ca_eco_gdf[ca_eco_gdf.US_L3NAME=='Sierra Nevada'].geometry.values[0]\n",
    "type(ca_eco_sierra_nevada)\n",
    "ca_eco_sierra_nevada"
   ]
  },
  {
   "cell_type": "code",
   "execution_count": null,
   "metadata": {},
   "outputs": [],
   "source": []
  }
 ],
 "metadata": {
  "kernelspec": {
   "display_name": "Python 3",
   "language": "python",
   "name": "python3"
  },
  "language_info": {
   "codemirror_mode": {
    "name": "ipython",
    "version": 3
   },
   "file_extension": ".py",
   "mimetype": "text/x-python",
   "name": "python",
   "nbconvert_exporter": "python",
   "pygments_lexer": "ipython3",
   "version": "3.6.8"
  }
 },
 "nbformat": 4,
 "nbformat_minor": 2
}
