{
 "cells": [
  {
   "cell_type": "code",
   "execution_count": 11,
   "metadata": {},
   "outputs": [],
   "source": [
    "import glob\n",
    "import numpy\n",
    "import xarray\n",
    "import matplotlib.pyplot as mp\n",
    "import scipy.signal\n",
    "import pandas\n",
    "import netCDF4"
   ]
  },
  {
   "cell_type": "code",
   "execution_count": 24,
   "metadata": {},
   "outputs": [],
   "source": [
    "file_list = sorted(glob.glob('../california-ecoregion-output/concatenated-files/*'))"
   ]
  },
  {
   "cell_type": "code",
   "execution_count": 28,
   "metadata": {},
   "outputs": [
    {
     "name": "stdout",
     "output_type": "stream",
     "text": [
      "../california-ecoregion-output/concatenated-files/LENS_run_002_sierra_nevada_TS_19200101-21001231.nc\n",
      "../california-ecoregion-output/concatenated-files/LENS_run_003_sierra_nevada_TS_19200101-21001231.nc\n",
      "../california-ecoregion-output/concatenated-files/LENS_run_004_sierra_nevada_TS_19200101-21001231.nc\n"
     ]
    }
   ],
   "source": [
    "ts_data_list = []\n",
    "\n",
    "for f in file_list[1:4]:\n",
    "    \n",
    "    print(f)\n",
    "    ncfile = xarray.open_dataset(f)\n",
    "    ts_data = ncfile['TS']\n",
    "    \n",
    "    ts_data_list.append(ts_data.values)"
   ]
  },
  {
   "cell_type": "code",
   "execution_count": 29,
   "metadata": {},
   "outputs": [
    {
     "data": {
      "text/plain": [
       "array([ 0.00000000e+00, -2.11954827e-03, -2.15915280e-02, ...,\n",
       "       -6.12205925e+00, -5.29204682e+00, -5.52463625e+00])"
      ]
     },
     "execution_count": 29,
     "metadata": {},
     "output_type": "execute_result"
    }
   ],
   "source": [
    "ts_data_list[2]-ts_data_list[1]"
   ]
  }
 ],
 "metadata": {
  "kernelspec": {
   "display_name": "Python 3",
   "language": "python",
   "name": "python3"
  },
  "language_info": {
   "codemirror_mode": {
    "name": "ipython",
    "version": 3
   },
   "file_extension": ".py",
   "mimetype": "text/x-python",
   "name": "python",
   "nbconvert_exporter": "python",
   "pygments_lexer": "ipython3",
   "version": "3.7.1"
  }
 },
 "nbformat": 4,
 "nbformat_minor": 2
}
