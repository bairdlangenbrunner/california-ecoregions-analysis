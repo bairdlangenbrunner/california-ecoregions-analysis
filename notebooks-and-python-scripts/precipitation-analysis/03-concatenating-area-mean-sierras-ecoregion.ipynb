{
 "cells": [
  {
   "cell_type": "code",
   "execution_count": 1,
   "metadata": {},
   "outputs": [],
   "source": [
    "import glob\n",
    "import numpy\n",
    "import xarray\n",
    "import matplotlib.pyplot as mp\n",
    "import scipy.signal\n",
    "import pandas\n",
    "import netCDF4"
   ]
  },
  {
   "cell_type": "code",
   "execution_count": 2,
   "metadata": {},
   "outputs": [],
   "source": [
    "file_list_hist = sorted(glob.glob('../california-ecoregion-output/*B20*'))\n",
    "file_list_rcp = sorted(glob.glob('../california-ecoregion-output/*BRCP*'))"
   ]
  },
  {
   "cell_type": "code",
   "execution_count": 4,
   "metadata": {},
   "outputs": [],
   "source": [
    "ens_labels = numpy.array([f'{i:03}' for i in list(range(1,36))+list(range(101,106))])"
   ]
  },
  {
   "cell_type": "code",
   "execution_count": 32,
   "metadata": {},
   "outputs": [
    {
     "name": "stdout",
     "output_type": "stream",
     "text": [
      "001\n",
      "002\n",
      "003\n",
      "004\n",
      "005\n",
      "006\n",
      "007\n",
      "008\n",
      "009\n",
      "010\n",
      "011\n",
      "012\n",
      "013\n",
      "014\n",
      "015\n",
      "016\n",
      "017\n",
      "018\n",
      "019\n",
      "020\n",
      "021\n",
      "022\n",
      "023\n",
      "024\n",
      "025\n",
      "026\n",
      "027\n",
      "028\n",
      "029\n",
      "030\n",
      "031\n",
      "032\n",
      "033\n",
      "034\n",
      "035\n",
      "101\n",
      "102\n",
      "103\n",
      "104\n",
      "105\n"
     ]
    }
   ],
   "source": [
    "for ens in ens_labels:\n",
    "    \n",
    "    print(ens)\n",
    "    ens_files = sorted(glob.glob('../california-ecoregion-output/*_'+ens+'_*.nc'))\n",
    "    mfds = xarray.open_mfdataset(ens_files)\n",
    "\n",
    "    start_date_string = ens_files[0].split('_')[-1].split('.')[-2].split('-')[0]\n",
    "    end_date_string = ens_files[-1].split('_')[-1].split('.')[-2].split('-')[1]\n",
    "    \n",
    "    file_out_string = ens_files[0].split('_B20')[0]+'_TS_'+start_date_string+'-'+end_date_string+'.nc'\n",
    "    \n",
    "    mfds.to_netcdf(file_out_string, unlimited_dims='time')\n",
    "    mfds.close()"
   ]
  }
 ],
 "metadata": {
  "kernelspec": {
   "display_name": "Python 3",
   "language": "python",
   "name": "python3"
  },
  "language_info": {
   "codemirror_mode": {
    "name": "ipython",
    "version": 3
   },
   "file_extension": ".py",
   "mimetype": "text/x-python",
   "name": "python",
   "nbconvert_exporter": "python",
   "pygments_lexer": "ipython3",
   "version": "3.6.8"
  }
 },
 "nbformat": 4,
 "nbformat_minor": 2
}
